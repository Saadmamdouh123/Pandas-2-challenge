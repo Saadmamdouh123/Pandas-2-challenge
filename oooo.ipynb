{
 "cells": [
  {
   "cell_type": "code",
   "execution_count": null,
   "id": "dcf76e72",
   "metadata": {},
   "outputs": [],
   "source": [
    "import pandas as pd"
   ]
  },
  {
   "cell_type": "markdown",
   "id": "5432bc42",
   "metadata": {},
   "source": [
    "# Charger le fichier CSV dans un DataFrame"
   ]
  },
  {
   "cell_type": "code",
   "execution_count": null,
   "id": "f2a7e96c",
   "metadata": {},
   "outputs": [],
   "source": [
    "df = pd.read_csv('C:/Users/Saad/Desktop/Pandas 1/employees2 (1).csv')"
   ]
  }
 ],
 "metadata": {
  "language_info": {
   "name": "python"
  }
 },
 "nbformat": 4,
 "nbformat_minor": 5
}
